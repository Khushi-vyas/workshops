{
 "cells": [
  {
   "cell_type": "code",
   "execution_count": 1,
   "id": "0a056ea0-f548-4854-965a-699ccbd84be8",
   "metadata": {},
   "outputs": [],
   "source": [
    "from openai import OpenAI"
   ]
  },
  {
   "cell_type": "code",
   "execution_count": 2,
   "id": "27447834-5a70-4ba0-84b6-167552ef9a73",
   "metadata": {},
   "outputs": [],
   "source": [
    "openai_client = OpenAI()"
   ]
  },
  {
   "cell_type": "code",
   "execution_count": 6,
   "id": "1009e176-9020-46e4-b9eb-ca510f32a840",
   "metadata": {},
   "outputs": [],
   "source": [
    "import json\n",
    "import random\n"
   ]
  },
  {
   "cell_type": "code",
   "execution_count": 21,
   "id": "8c8321ab-065d-4e61-9f83-845014a1f26f",
   "metadata": {},
   "outputs": [
    {
     "name": "stdout",
     "output_type": "stream",
     "text": [
      "Sure, here it goes:\n",
      "\n",
      "Why did Alexey bring a ladder to the bar?\n",
      "\n",
      "Because he heard the drinks were on the house!\n"
     ]
    }
   ],
   "source": [
    "system_prompt = \"You can make funny and original jokes. Find out the user's name to make the joke personalized.\"\n",
    "user_prompt = \"Tell me a joke about Alexey.\"\n",
    "\n",
    "chat_messages = [\n",
    "    {\"role\": \"developer\", \"content\": system_prompt},\n",
    "    {\"role\": \"user\", \"content\": user_prompt}\n",
    "]\n",
    "\n",
    "response = openai_client.responses.create(\n",
    "    model='gpt-4o-mini',\n",
    "    input=chat_messages,\n",
    ")\n",
    "\n",
    "print(response.output_text)"
   ]
  },
  {
   "cell_type": "code",
   "execution_count": 5,
   "id": "b1c8f91d-1ee8-4922-b197-3ed13a951c5c",
   "metadata": {},
   "outputs": [
    {
     "name": "stdout",
     "output_type": "stream",
     "text": [
      "Alexey doesn't make mistakes… only unexpected plot twists!\n"
     ]
    }
   ],
   "source": [
    "def make_joke(name):\n",
    "    jokes = [\n",
    "        f\"Why did {name} bring a pencil to the party? Because he wanted to draw some attention!\",\n",
    "        f\"{name} tried to catch some fog yesterday… Mist!\",\n",
    "        f\"Did you hear about {name}'s bakery? Business is on a roll!\",\n",
    "        f\"{name} walked into a library and asked for a burger. The librarian said, 'This is a library.' So {name} whispered, 'Can I get a burger?'\",\n",
    "        f\"{name} doesn't make mistakes… only unexpected plot twists!\",\n",
    "        f\"When {name} does push-ups, the Earth moves down.\",\n",
    "        f\"{name} told a chemistry joke… but there was no reaction.\",\n",
    "    ]\n",
    "    return random.choice(jokes)\n",
    "\n",
    "# Example usage:\n",
    "print(make_joke(\"Alexey\"))\n"
   ]
  },
  {
   "cell_type": "code",
   "execution_count": 10,
   "id": "f41b6771-b9f8-43a8-909b-bd9037bc2c75",
   "metadata": {},
   "outputs": [],
   "source": [
    "make_joke_description = {\n",
    "  \"type\": \"function\",\n",
    "  \"name\": \"make_joke\",\n",
    "  \"description\": \"Generates a random personalized joke using the provided name.\",\n",
    "  \"parameters\": {\n",
    "    \"type\": \"object\",\n",
    "    \"properties\": {\n",
    "      \"name\": {\n",
    "        \"type\": \"string\",\n",
    "        \"description\": \"The name to insert into the joke, personalizing the output.\"\n",
    "      }\n",
    "    },\n",
    "    \"required\": [\"name\"],\n",
    "    \"additionalProperties\": False\n",
    "  }\n",
    "}\n"
   ]
  },
  {
   "cell_type": "code",
   "execution_count": 11,
   "id": "f3b65608-89f3-4bd9-b222-5ea855dfc4dc",
   "metadata": {},
   "outputs": [],
   "source": [
    "system_prompt = \"You can make funny and original jokes. Find out the user's name to make the joke personalized.\"\n",
    "user_prompt = \"Tell me a joke about Alexey.\"\n",
    "\n",
    "chat_messages = [\n",
    "    {\"role\": \"developer\", \"content\": system_prompt},\n",
    "    {\"role\": \"user\", \"content\": user_prompt}\n",
    "]\n",
    "\n",
    "response = openai_client.responses.create(\n",
    "    model='gpt-4o-mini',\n",
    "    input=chat_messages,\n",
    "    tools=[make_joke_description]\n",
    ")"
   ]
  },
  {
   "cell_type": "code",
   "execution_count": 12,
   "id": "d2138967-a90f-458e-9eb5-d7cd915ece8a",
   "metadata": {},
   "outputs": [],
   "source": [
    "call = response.output[0]"
   ]
  },
  {
   "cell_type": "code",
   "execution_count": 13,
   "id": "ead69fcd-ccb1-4546-bd26-9e7a744a4d28",
   "metadata": {},
   "outputs": [
    {
     "data": {
      "text/plain": [
       "ResponseFunctionToolCall(arguments='{\"name\":\"Alexey\"}', call_id='call_cueO7pnHcPiA0j5Qj7kHW2lx', name='make_joke', type='function_call', id='fc_6888ca621794819db8deb8930f1d9d7b018ca385a684bbac', status='completed')"
      ]
     },
     "execution_count": 13,
     "metadata": {},
     "output_type": "execute_result"
    }
   ],
   "source": [
    "call"
   ]
  },
  {
   "cell_type": "code",
   "execution_count": 14,
   "id": "a22f979a-5a8b-484c-9209-27338f4371bf",
   "metadata": {},
   "outputs": [
    {
     "data": {
      "text/plain": [
       "\"Did you hear about Alexey's bakery? Business is on a roll!\""
      ]
     },
     "execution_count": 14,
     "metadata": {},
     "output_type": "execute_result"
    }
   ],
   "source": [
    "arguments = json.loads(call.arguments)\n",
    "f_name = call.name\n",
    "\n",
    "f = globals()[f_name]\n",
    "result = f(**arguments)\n",
    "result"
   ]
  },
  {
   "cell_type": "code",
   "execution_count": 15,
   "id": "af54b76b-a085-48cc-8244-a47d4d3eba4e",
   "metadata": {},
   "outputs": [
    {
     "data": {
      "text/plain": [
       "{'type': 'function_call_output',\n",
       " 'call_id': 'call_cueO7pnHcPiA0j5Qj7kHW2lx',\n",
       " 'output': \"Did you hear about Alexey's bakery? Business is on a roll!\"}"
      ]
     },
     "execution_count": 15,
     "metadata": {},
     "output_type": "execute_result"
    }
   ],
   "source": [
    "call_output = {\n",
    "    \"type\": \"function_call_output\",\n",
    "    \"call_id\": call.call_id,\n",
    "    \"output\": result\n",
    "}\n",
    "call_output"
   ]
  },
  {
   "cell_type": "code",
   "execution_count": 16,
   "id": "eb334c41-5d2c-43e7-b06f-8b28c900031a",
   "metadata": {},
   "outputs": [],
   "source": [
    "chat_messages.append(call)\n",
    "chat_messages.append(call_output)"
   ]
  },
  {
   "cell_type": "code",
   "execution_count": 17,
   "id": "f736324a-c7cb-457c-8075-4ab6308f082e",
   "metadata": {},
   "outputs": [
    {
     "name": "stdout",
     "output_type": "stream",
     "text": [
      "Did you hear about Alexey's bakery? Business is on a roll! 🍞😄\n"
     ]
    }
   ],
   "source": [
    "response = openai_client.responses.create(\n",
    "    model='gpt-4o-mini',\n",
    "    input=chat_messages,\n",
    "    tools=[make_joke_description]\n",
    ")\n",
    "print(response.output_text)"
   ]
  },
  {
   "cell_type": "markdown",
   "id": "77bc3fb0-c638-4912-bb38-a32da52a06ca",
   "metadata": {},
   "source": [
    "## Toy AI Kit"
   ]
  },
  {
   "cell_type": "code",
   "execution_count": 18,
   "id": "223de797-26a8-4b3f-9c0d-ee5e76eeae04",
   "metadata": {},
   "outputs": [],
   "source": [
    "import sys\n",
    "sys.path.append('../../toyaikit/')"
   ]
  },
  {
   "cell_type": "code",
   "execution_count": 19,
   "id": "296019e6-0667-4747-b7a8-558bd31c5c9e",
   "metadata": {},
   "outputs": [
    {
     "name": "stdout",
     "output_type": "stream",
     "text": [
      "The autoreload extension is already loaded. To reload it, use:\n",
      "  %reload_ext autoreload\n"
     ]
    }
   ],
   "source": [
    "%load_ext autoreload\n",
    "%autoreload 2"
   ]
  },
  {
   "cell_type": "code",
   "execution_count": 20,
   "id": "6703997b-377c-4460-99b3-9ff18d5a877c",
   "metadata": {},
   "outputs": [],
   "source": [
    "def make_joke(name: str) -> str:\n",
    "    \"\"\"\n",
    "    Generates a personalized joke using the provided name.\n",
    "\n",
    "    Parameters:\n",
    "        name (str): The name to insert into the joke.\n",
    "\n",
    "    Returns:\n",
    "        str: A joke with the name included.\n",
    "    \"\"\"\n",
    "    jokes = [\n",
    "        f\"Why did {name} bring a pencil to the party? Because he wanted to draw some attention!\",\n",
    "        f\"{name} tried to catch some fog yesterday… Mist!\",\n",
    "        f\"Did you hear about {name}'s bakery? Business is on a roll!\",\n",
    "        f\"{name} walked into a library and asked for a burger. The librarian said, 'This is a library.' So {name} whispered, 'Can I get a burger?'\",\n",
    "        f\"{name} doesn't make mistakes… only unexpected plot twists!\",\n",
    "        f\"When {name} does push-ups, the Earth moves down.\",\n",
    "        f\"{name} told a chemistry joke… but there was no reaction.\",\n",
    "    ]\n",
    "    return random.choice(jokes)"
   ]
  },
  {
   "cell_type": "code",
   "execution_count": 21,
   "id": "25b5e223-ef45-4d7d-9e14-db5d29f77609",
   "metadata": {},
   "outputs": [],
   "source": [
    "from toyaikit.chat import ChatAssistant, OpenAIClient, IPythonChatInterface\n",
    "from toyaikit.tools import Tools"
   ]
  },
  {
   "cell_type": "code",
   "execution_count": 22,
   "id": "daea6970-a459-4db5-8702-2f1cc6fd9f6b",
   "metadata": {},
   "outputs": [
    {
     "data": {
      "text/plain": [
       "[{'type': 'function',\n",
       "  'name': 'make_joke',\n",
       "  'description': 'Generates a personalized joke using the provided name.\\n\\nParameters:\\n    name (str): The name to insert into the joke.\\n\\nReturns:\\n    str: A joke with the name included.',\n",
       "  'parameters': {'type': 'object',\n",
       "   'properties': {'name': {'type': 'string', 'description': 'name parameter'}},\n",
       "   'required': ['name'],\n",
       "   'additionalProperties': False}}]"
      ]
     },
     "execution_count": 22,
     "metadata": {},
     "output_type": "execute_result"
    }
   ],
   "source": [
    "tools = Tools()\n",
    "tools.add_tool(make_joke)\n",
    "tools.get_tools()"
   ]
  },
  {
   "cell_type": "code",
   "execution_count": 23,
   "id": "507db161-c894-406e-bf9f-24448971b10e",
   "metadata": {},
   "outputs": [],
   "source": []
  },
  {
   "cell_type": "code",
   "execution_count": 25,
   "id": "c7a7415a-7867-4855-a0d6-597f69fc89d2",
   "metadata": {},
   "outputs": [
    {
     "name": "stdin",
     "output_type": "stream",
     "text": [
      "You: Tell me a joke\n"
     ]
    },
    {
     "data": {
      "text/html": [
       "\n",
       "            <div>\n",
       "                <div><b>Assistant:</b></div>\n",
       "                <div><p>I’d love to! Can I have your name to make the joke more personalized?</p></div>\n",
       "            </div>\n",
       "        "
      ],
      "text/plain": [
       "<IPython.core.display.HTML object>"
      ]
     },
     "metadata": {},
     "output_type": "display_data"
    },
    {
     "name": "stdin",
     "output_type": "stream",
     "text": [
      "You: Alexey\n"
     ]
    },
    {
     "data": {
      "text/html": [
       "\n",
       "            <details>\n",
       "            <summary>Function call: <tt>make_joke({\"name\":\"Alexey\"})</tt></summary>\n",
       "            <div>\n",
       "                <b>Call</b>\n",
       "                <pre>{\"name\":\"Alexey\"}</pre>\n",
       "            </div>\n",
       "            <div>\n",
       "                <b>Output</b>\n",
       "                <pre>{'type': 'function_call_output', 'call_id': 'call_zn1sFa26aLRZ2bAchZup5319', 'output': '\"Did you hear about Alexey\\'s bakery? Business is on a roll!\"'}</pre>\n",
       "            </div>\n",
       "            \n",
       "            </details>\n",
       "        "
      ],
      "text/plain": [
       "<IPython.core.display.HTML object>"
      ]
     },
     "metadata": {},
     "output_type": "display_data"
    },
    {
     "data": {
      "text/html": [
       "\n",
       "            <div>\n",
       "                <div><b>Assistant:</b></div>\n",
       "                <div><p>Here's a joke just for you, Alexey: </p>\n",
       "<p>\"Did you hear about Alexey's bakery? Business is on a roll!\" </p>\n",
       "<p>Hope that gave you a smile!</p></div>\n",
       "            </div>\n",
       "        "
      ],
      "text/plain": [
       "<IPython.core.display.HTML object>"
      ]
     },
     "metadata": {},
     "output_type": "display_data"
    },
    {
     "name": "stdin",
     "output_type": "stream",
     "text": [
      "You: No\n"
     ]
    },
    {
     "data": {
      "text/html": [
       "\n",
       "            <div>\n",
       "                <div><b>Assistant:</b></div>\n",
       "                <div><p>No problem! Let me try a different one. How about this: </p>\n",
       "<p>Why don't scientists trust atoms? </p>\n",
       "<p>Because they make up everything! </p>\n",
       "<p>What do you think?</p></div>\n",
       "            </div>\n",
       "        "
      ],
      "text/plain": [
       "<IPython.core.display.HTML object>"
      ]
     },
     "metadata": {},
     "output_type": "display_data"
    },
    {
     "name": "stdin",
     "output_type": "stream",
     "text": [
      "You: stop\n"
     ]
    },
    {
     "name": "stdout",
     "output_type": "stream",
     "text": [
      "Chat ended.\n"
     ]
    }
   ],
   "source": [
    "chat_interface = IPythonChatInterface()\n",
    "\n",
    "chat_assistant = ChatAssistant(\n",
    "    tools=tools,\n",
    "    developer_prompt=system_prompt,\n",
    "    chat_interface=chat_interface,\n",
    ")\n",
    "\n",
    "chat_assistant.run()"
   ]
  },
  {
   "cell_type": "code",
   "execution_count": null,
   "id": "b83253e5-5672-400b-b417-a4fb7970eeec",
   "metadata": {},
   "outputs": [],
   "source": []
  }
 ],
 "metadata": {
  "kernelspec": {
   "display_name": "Python 3 (ipykernel)",
   "language": "python",
   "name": "python3"
  },
  "language_info": {
   "codemirror_mode": {
    "name": "ipython",
    "version": 3
   },
   "file_extension": ".py",
   "mimetype": "text/x-python",
   "name": "python",
   "nbconvert_exporter": "python",
   "pygments_lexer": "ipython3",
   "version": "3.13.5"
  }
 },
 "nbformat": 4,
 "nbformat_minor": 5
}
