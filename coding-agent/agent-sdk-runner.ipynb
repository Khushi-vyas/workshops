{
 "cells": [
  {
   "cell_type": "code",
   "execution_count": 1,
   "id": "2446995d-5240-40a1-a212-460709b0f9b5",
   "metadata": {},
   "outputs": [],
   "source": [
    "import sys\n",
    "sys.path.insert(0, '../../toyaikit/')"
   ]
  },
  {
   "cell_type": "code",
   "execution_count": 2,
   "id": "2f2fd400-ce9a-41d0-be41-6f66b27618a3",
   "metadata": {},
   "outputs": [],
   "source": [
    "%load_ext autoreload\n",
    "%autoreload 2"
   ]
  },
  {
   "cell_type": "code",
   "execution_count": 3,
   "id": "032dac0f-7e26-4a1b-8e70-9de26367df31",
   "metadata": {},
   "outputs": [],
   "source": [
    "from agents import Agent, Runner, SQLiteSession, function_tool"
   ]
  },
  {
   "cell_type": "markdown",
   "id": "66030e71-25eb-4d16-a8e1-71ead48eda5a",
   "metadata": {},
   "source": [
    "## Coding agent"
   ]
  },
  {
   "cell_type": "code",
   "execution_count": 4,
   "id": "e1a308f5-4b3e-4bcc-95be-a63c8eb9e863",
   "metadata": {},
   "outputs": [],
   "source": [
    "import os\n",
    "import shutil\n",
    "\n",
    "def copy_project_template(project_folder: str) -> str:\n",
    "    \"\"\"\n",
    "    copy the template into the project folder\n",
    "\n",
    "    arguments: project_folder - should be a lowercase string with underscores\n",
    "    \"\"\"\n",
    "    if not project_folder:\n",
    "        print(\"Project name cannot be empty.\")\n",
    "        return\n",
    "\n",
    "    if os.path.exists(project_folder):\n",
    "        print(f\"Directory '{project_folder}' already exists. Please choose a different name or remove the existing directory.\")\n",
    "        return\n",
    "\n",
    "    shutil.copytree('django_template', project_folder)\n",
    "    print(f\"Django template copied to '{project_folder}' directory.\")\n",
    "\n",
    "    return project_folder"
   ]
  },
  {
   "cell_type": "code",
   "execution_count": 5,
   "id": "32fbbe1d-3a6c-4770-ab91-98f020f20946",
   "metadata": {},
   "outputs": [
    {
     "name": "stdout",
     "output_type": "stream",
     "text": [
      "Directory 'todo-agents' already exists. Please choose a different name or remove the existing directory.\n"
     ]
    }
   ],
   "source": [
    "project_name = copy_project_template('todo-agents')"
   ]
  },
  {
   "cell_type": "code",
   "execution_count": 6,
   "id": "b1596868-e27f-4b52-8ee4-c447e42d7e4b",
   "metadata": {},
   "outputs": [],
   "source": [
    "project_name = 'todo-agents'"
   ]
  },
  {
   "cell_type": "code",
   "execution_count": 7,
   "id": "d52b3e04-d591-48a3-849b-e2899806d18e",
   "metadata": {},
   "outputs": [],
   "source": [
    "import tools\n",
    "from pathlib import Path"
   ]
  },
  {
   "cell_type": "code",
   "execution_count": 8,
   "id": "edd7eadd-79b8-40d6-85cc-7dc362b16ae9",
   "metadata": {},
   "outputs": [],
   "source": [
    "agent_tools = tools.AgentTools(Path(project_name))\n",
    "\n",
    "coding_agent_tools_list = [\n",
    "    function_tool(agent_tools.execute_bash_command),\n",
    "    function_tool(agent_tools.read_file),\n",
    "    function_tool(agent_tools.search_in_files),\n",
    "    function_tool(agent_tools.see_file_tree),\n",
    "    function_tool(agent_tools.write_file)\n",
    "]"
   ]
  },
  {
   "cell_type": "code",
   "execution_count": 9,
   "id": "9f9ba364-d9fe-46cc-8742-9bcb66dcb9df",
   "metadata": {},
   "outputs": [],
   "source": [
    "DEVELOPER_PROMPT = \"\"\"\n",
    "You are a coding agent. Your task is to modify the provided Django project template\n",
    "according to user instructions. You don't tell the user what to do; you do it yourself using the \n",
    "available tools. First, think about the sequence of steps you will do, and then \n",
    "execute the sequence.\n",
    "Always ensure changes are consistent with Django best practices and the project’s structure.\n",
    "\n",
    "## Project Overview\n",
    "\n",
    "The project is a Django 5.2.4 web application scaffolded with standard best practices. It uses:\n",
    "- Python 3.8+\n",
    "- Django 5.2.4 (as specified in pyproject.toml)\n",
    "- uv for Python environment and dependency management\n",
    "- SQLite as the default database (see settings.py)\n",
    "- Standard Django apps and a custom app called myapp\n",
    "- HTML templates for rendering views\n",
    "- TailwindCSS for styling\n",
    "\n",
    "## File Tree\n",
    "\n",
    "\n",
    "├── .python-version\n",
    "├── README.md\n",
    "├── manage.py\n",
    "├── pyproject.toml\n",
    "├── uv.lock\n",
    "├── myapp/\n",
    "│   ├── __init__.py\n",
    "│   ├── admin.py\n",
    "│   ├── apps.py\n",
    "│   ├── migrations/\n",
    "│   │   └── __init__.py\n",
    "│   ├── models.py\n",
    "│   ├── templates/\n",
    "│   │   └── home.html\n",
    "│   ├── tests.py\n",
    "│   └── views.py\n",
    "├── myproject/\n",
    "│   ├── __init__.py\n",
    "│   ├── asgi.py\n",
    "│   ├── settings.py\n",
    "│   ├── urls.py\n",
    "│   └── wsgi.py\n",
    "└── templates/\n",
    "    └── base.html\n",
    "\n",
    "## Content Description\n",
    "\n",
    "- manage.py: Standard Django management script for running commands.\n",
    "- README.md: Setup and run instructions, including use of uv for dependency management.\n",
    "- pyproject.toml: Project metadata and dependencies (Django 5.2.4).\n",
    "- uv.lock: Lock file for reproducible Python environments.\n",
    "- .python-version: Specifies the Python version for the project.\n",
    "- myapp/: Custom Django app with models, views, admin, tests, and a template (home.html).\n",
    "  - migrations/: Contains migration files for database schema.\n",
    "- myproject/: Django project configuration (settings, URLs, WSGI/ASGI entrypoints).\n",
    "  - settings.py: Configures installed apps, middleware, database (SQLite), templates, etc.\n",
    "- templates/: Project-level templates, including base.html.\n",
    "\n",
    "You have full access to modify, add, or remove files and code within this structure using your available tools.\n",
    "\n",
    "\n",
    "## Additional instructions\n",
    "\n",
    "- Don't execute \"runserver\", but you can execute other commands to check if the project is working.\n",
    "- Make sure you use Tailwind styles for making the result look beatiful\n",
    "- Use pictograms and emojis when possible. Font-awesome is awailable\n",
    "- Avoid putting complex logic to templates - do it on the server side when possible\n",
    "\"\"\""
   ]
  },
  {
   "cell_type": "code",
   "execution_count": 10,
   "id": "1e061422-22a6-4046-9668-c92e1fd27df9",
   "metadata": {},
   "outputs": [],
   "source": [
    "coding_agent = Agent(\n",
    "    name=\"CodingAgent\",\n",
    "    instructions=DEVELOPER_PROMPT,\n",
    "    tools=coding_agent_tools_list,\n",
    "    model='gpt-4o-mini'\n",
    ")"
   ]
  },
  {
   "cell_type": "code",
   "execution_count": 23,
   "id": "324dd7d8-bf50-438e-a696-268cf8a7a837",
   "metadata": {},
   "outputs": [],
   "source": [
    "from toyaikit.chat.runners import OpenAIAgentsSDKRunner"
   ]
  },
  {
   "cell_type": "code",
   "execution_count": 24,
   "id": "57f2266e-88cd-4cbc-a995-cda6d93709bf",
   "metadata": {},
   "outputs": [],
   "source": [
    "from toyaikit.chat import IPythonChatInterface\n",
    "interface = IPythonChatInterface()"
   ]
  },
  {
   "cell_type": "code",
   "execution_count": 25,
   "id": "74d61643-07c7-4aa8-bcea-22b3b32a35ff",
   "metadata": {},
   "outputs": [],
   "source": [
    "runner = OpenAIAgentsSDKRunner(chat_interface=interface, agent=coding_agent)"
   ]
  },
  {
   "cell_type": "code",
   "execution_count": 22,
   "id": "8de7a5d0-ffb9-4e00-9549-7ce139f6bb5e",
   "metadata": {},
   "outputs": [
    {
     "name": "stdin",
     "output_type": "stream",
     "text": [
      "You: todo list\n"
     ]
    },
    {
     "data": {
      "text/html": [
       "\n",
       "            <div>\n",
       "                <div><b>Assistant:</b></div>\n",
       "                <div><p>To implement a simple Todo List feature in the Django project, I will follow these steps:</p>\n",
       "<ol>\n",
       "<li><strong>Update Models</strong>: Create a <code>Todo</code> model in <code>myapp/models.py</code> to store todo items.</li>\n",
       "<li><strong>Create Views</strong>: Add views in <code>myapp/views.py</code> for displaying, adding, and deleting todos.</li>\n",
       "<li><strong>Update URLs</strong>: Configure URLs in <code>myproject/urls.py</code> to route requests to the new views.</li>\n",
       "<li><strong>Create Templates</strong>: Design a template for displaying and managing the todo list in <code>myapp/templates/</code>.</li>\n",
       "<li><strong>Add Tailwind Styles</strong>: Ensure the templates use TailwindCSS for styling.</li>\n",
       "<li><strong>Update Admin</strong>: Register the <code>Todo</code> model in the Django admin for easy management.</li>\n",
       "</ol>\n",
       "<p>Let's start with these changes.</p></div>\n",
       "            </div>\n",
       "        "
      ],
      "text/plain": [
       "<IPython.core.display.HTML object>"
      ]
     },
     "metadata": {},
     "output_type": "display_data"
    },
    {
     "data": {
      "text/html": [
       "\n",
       "            <details>\n",
       "            <summary>Function call: <tt>write_file({\"filepath\":\"myapp/models.py\",\"content\":\"from d...)</tt></summary>\n",
       "            <div>\n",
       "                <b>Call</b>\n",
       "                <pre>{\"filepath\":\"myapp/models.py\",\"content\":\"from django.db import models\\n\\nclass Todo(models.Model):\\n    title = models.CharField(max_length=200)\\n    completed = models.BooleanField(default=False)\\n    created_at = models.DateTimeField(auto_now_add=True)\\n\\n    def __str__(self):\\n        return self.title\"}</pre>\n",
       "            </div>\n",
       "            <div>\n",
       "                <b>Output</b>\n",
       "                <pre>None</pre>\n",
       "            </div>\n",
       "            \n",
       "            </details>\n",
       "        "
      ],
      "text/plain": [
       "<IPython.core.display.HTML object>"
      ]
     },
     "metadata": {},
     "output_type": "display_data"
    },
    {
     "data": {
      "text/html": [
       "\n",
       "            <details>\n",
       "            <summary>Function call: <tt>write_file({\"filepath\":\"myapp/views.py\",\"content\":\"from dj...)</tt></summary>\n",
       "            <div>\n",
       "                <b>Call</b>\n",
       "                <pre>{\"filepath\":\"myapp/views.py\",\"content\":\"from django.shortcuts import render, redirect\\nfrom .models import Todo\\n\\n\\ndef todo_list(request):\\n    todos = Todo.objects.all()\\n    return render(request, 'myapp/todo_list.html', {'todos': todos})\\n\\n\\ndef add_todo(request):\\n    if request.method == 'POST':\\n        title = request.POST.get('title')\\n        Todo.objects.create(title=title)\\n        return redirect('todo_list')\\n\\n    return render(request, 'myapp/add_todo.html')\\n\\n\\ndef delete_todo(request, todo_id):\\n    todo = Todo.objects.get(id=todo_id)\\n    todo.delete()\\n    return redirect('todo_list')\"}</pre>\n",
       "            </div>\n",
       "            <div>\n",
       "                <b>Output</b>\n",
       "                <pre>None</pre>\n",
       "            </div>\n",
       "            \n",
       "            </details>\n",
       "        "
      ],
      "text/plain": [
       "<IPython.core.display.HTML object>"
      ]
     },
     "metadata": {},
     "output_type": "display_data"
    },
    {
     "data": {
      "text/html": [
       "\n",
       "            <details>\n",
       "            <summary>Function call: <tt>write_file({\"filepath\":\"myproject/urls.py\",\"content\":\"from...)</tt></summary>\n",
       "            <div>\n",
       "                <b>Call</b>\n",
       "                <pre>{\"filepath\":\"myproject/urls.py\",\"content\":\"from django.contrib import admin\\nfrom django.urls import path\\nfrom myapp.views import todo_list, add_todo, delete_todo\\n\\nurlpatterns = [\\n    path('admin/', admin.site.urls),\\n    path('todos/', todo_list, name='todo_list'),\\n    path('todos/add/', add_todo, name='add_todo'),\\n    path('todos/delete/<int:todo_id>/', delete_todo, name='delete_todo'),\\n]\"}</pre>\n",
       "            </div>\n",
       "            <div>\n",
       "                <b>Output</b>\n",
       "                <pre>None</pre>\n",
       "            </div>\n",
       "            \n",
       "            </details>\n",
       "        "
      ],
      "text/plain": [
       "<IPython.core.display.HTML object>"
      ]
     },
     "metadata": {},
     "output_type": "display_data"
    },
    {
     "data": {
      "text/html": [
       "\n",
       "            <details>\n",
       "            <summary>Function call: <tt>write_file({\"filepath\":\"myapp/templates/myapp/todo_list.ht...)</tt></summary>\n",
       "            <div>\n",
       "                <b>Call</b>\n",
       "                <pre>{\"filepath\":\"myapp/templates/myapp/todo_list.html\",\"content\":\"{% extends 'base.html' %}\\n\\n{% block content %}\\n<h1 class=\\\"text-2xl font-bold mb-4\\\">Todo List 📝</h1>\\n<form action=\\\"/todos/add/\\\" method=\\\"POST\\\" class=\\\"mb-4\\\">\\n    {% csrf_token %}\\n    <input type=\\\"text\\\" name=\\\"title\\\" class=\\\"border rounded px-4 py-2\\\" placeholder=\\\"Add a new todo\\\" required>\\n    <button type=\\\"submit\\\" class=\\\"bg-blue-500 text-white rounded px-4 py-2\\\">Add</button>\\n</form>\\n<ul>\\n    {% for todo in todos %}\\n        <li class=\\\"flex justify-between items-center mb-2\\\">\\n            <span class=\\\"{% if todo.completed %}line-through{% endif %}\\\">{{ todo.title }}</span>\\n            <form action=\\\"/todos/delete/{{ todo.id }}/\\\" method=\\\"POST\\\">\\n                {% csrf_token %}\\n                <button type=\\\"submit\\\" class=\\\"bg-red-500 text-white rounded px-2 py-1\\\">Delete 🗑️</button>\\n            </form>\\n        </li>\\n    {% endfor %}\\n</ul>\\n{% endblock %}\"}</pre>\n",
       "            </div>\n",
       "            <div>\n",
       "                <b>Output</b>\n",
       "                <pre>None</pre>\n",
       "            </div>\n",
       "            \n",
       "            </details>\n",
       "        "
      ],
      "text/plain": [
       "<IPython.core.display.HTML object>"
      ]
     },
     "metadata": {},
     "output_type": "display_data"
    },
    {
     "data": {
      "text/html": [
       "\n",
       "            <details>\n",
       "            <summary>Function call: <tt>write_file({\"filepath\":\"myapp/templates/myapp/add_todo.htm...)</tt></summary>\n",
       "            <div>\n",
       "                <b>Call</b>\n",
       "                <pre>{\"filepath\":\"myapp/templates/myapp/add_todo.html\",\"content\":\"{% extends 'base.html' %}\\n\\n{% block content %}\\n<h1 class=\\\"text-2xl font-bold mb-4\\\">Add Todo 📌</h1>\\n<form action=\\\"/todos/add/\\\" method=\\\"POST\\\">\\n    {% csrf_token %}\\n    <input type=\\\"text\\\" name=\\\"title\\\" placeholder=\\\"New Todo\\\" required class=\\\"border rounded px-4 py-2\\\">\\n    <button type=\\\"submit\\\" class=\\\"bg-green-500 text-white rounded px-4 py-2\\\">Add Todo</button>\\n</form>\\n{% endblock %}\"}</pre>\n",
       "            </div>\n",
       "            <div>\n",
       "                <b>Output</b>\n",
       "                <pre>None</pre>\n",
       "            </div>\n",
       "            \n",
       "            </details>\n",
       "        "
      ],
      "text/plain": [
       "<IPython.core.display.HTML object>"
      ]
     },
     "metadata": {},
     "output_type": "display_data"
    },
    {
     "data": {
      "text/html": [
       "\n",
       "            <details>\n",
       "            <summary>Function call: <tt>write_file({\"filepath\":\"myapp/admin.py\",\"content\":\"from dj...)</tt></summary>\n",
       "            <div>\n",
       "                <b>Call</b>\n",
       "                <pre>{\"filepath\":\"myapp/admin.py\",\"content\":\"from django.contrib import admin\\nfrom .models import Todo\\n\\nadmin.site.register(Todo)\"}</pre>\n",
       "            </div>\n",
       "            <div>\n",
       "                <b>Output</b>\n",
       "                <pre>None</pre>\n",
       "            </div>\n",
       "            \n",
       "            </details>\n",
       "        "
      ],
      "text/plain": [
       "<IPython.core.display.HTML object>"
      ]
     },
     "metadata": {},
     "output_type": "display_data"
    },
    {
     "data": {
      "text/html": [
       "\n",
       "            <details>\n",
       "            <summary>Function call: <tt>execute_bash_command({\"command\":\"python manage.py makemigrations\",\"c...)</tt></summary>\n",
       "            <div>\n",
       "                <b>Call</b>\n",
       "                <pre>{\"command\":\"python manage.py makemigrations\",\"cwd\":\".\"}</pre>\n",
       "            </div>\n",
       "            <div>\n",
       "                <b>Output</b>\n",
       "                <pre>(\"Migrations for 'myapp':\\n  myapp\\\\migrations\\\\0001_initial.py\\n    + Create model Todo\\n\", '', 0)</pre>\n",
       "            </div>\n",
       "            \n",
       "            </details>\n",
       "        "
      ],
      "text/plain": [
       "<IPython.core.display.HTML object>"
      ]
     },
     "metadata": {},
     "output_type": "display_data"
    },
    {
     "data": {
      "text/html": [
       "\n",
       "            <details>\n",
       "            <summary>Function call: <tt>execute_bash_command({\"command\":\"python manage.py migrate\",\"cwd\":\".\"})</tt></summary>\n",
       "            <div>\n",
       "                <b>Call</b>\n",
       "                <pre>{\"command\":\"python manage.py migrate\",\"cwd\":\".\"}</pre>\n",
       "            </div>\n",
       "            <div>\n",
       "                <b>Output</b>\n",
       "                <pre>('Operations to perform:\\n  Apply all migrations: admin, auth, contenttypes, myapp, sessions\\nRunning migrations:\\n  Applying myapp.0001_initial... OK\\n', '', 0)</pre>\n",
       "            </div>\n",
       "            \n",
       "            </details>\n",
       "        "
      ],
      "text/plain": [
       "<IPython.core.display.HTML object>"
      ]
     },
     "metadata": {},
     "output_type": "display_data"
    },
    {
     "data": {
      "text/html": [
       "\n",
       "            <div>\n",
       "                <div><b>Assistant:</b></div>\n",
       "                <div><p>The Todo List feature has been successfully added to the Django application. Here’s a summary of the implemented changes:</p>\n",
       "<h3>1. Models</h3>\n",
       "<ul>\n",
       "<li>Created a <code>Todo</code> model in <code>myapp/models.py</code> to store todo items with fields for title, completion status, and creation timestamp.</li>\n",
       "</ul>\n",
       "<h3>2. Views</h3>\n",
       "<ul>\n",
       "<li>Implemented views in <code>myapp/views.py</code>:</li>\n",
       "<li><code>todo_list</code>: Displays the list of todos.</li>\n",
       "<li><code>add_todo</code>: Handles the addition of a new todo item.</li>\n",
       "<li><code>delete_todo</code>: Deletes a todo item based on its ID.</li>\n",
       "</ul>\n",
       "<h3>3. URLs</h3>\n",
       "<ul>\n",
       "<li>Added routes in <code>myproject/urls.py</code> for viewing, adding, and deleting todos.</li>\n",
       "</ul>\n",
       "<h3>4. Templates</h3>\n",
       "<ul>\n",
       "<li>Created two new templates:</li>\n",
       "<li><code>todo_list.html</code>: Displays the list and form to add new todos.</li>\n",
       "<li><code>add_todo.html</code>: A simple form to add a todo.</li>\n",
       "</ul>\n",
       "<h3>5. Tailwind Styles</h3>\n",
       "<ul>\n",
       "<li>Integrated TailwindCSS for styling to make the app visually appealing.</li>\n",
       "</ul>\n",
       "<h3>6. Admin Configuration</h3>\n",
       "<ul>\n",
       "<li>Registered the <code>Todo</code> model in the Django admin for easy management.</li>\n",
       "</ul>\n",
       "<h3>7. Database Migration</h3>\n",
       "<ul>\n",
       "<li>Created and applied the necessary migrations for the new model.</li>\n",
       "</ul>\n",
       "<h3>Next Steps</h3>\n",
       "<ul>\n",
       "<li>You can now run the application and navigate to <code>/todos/</code> to see and manage your todo list. If you need anything else, let me know!</li>\n",
       "</ul></div>\n",
       "            </div>\n",
       "        "
      ],
      "text/plain": [
       "<IPython.core.display.HTML object>"
      ]
     },
     "metadata": {},
     "output_type": "display_data"
    },
    {
     "name": "stdin",
     "output_type": "stream",
     "text": [
      "You: stop\n"
     ]
    },
    {
     "name": "stdout",
     "output_type": "stream",
     "text": [
      "Chat ended.\n"
     ]
    }
   ],
   "source": [
    "await runner.run()"
   ]
  },
  {
   "cell_type": "code",
   "execution_count": null,
   "id": "fee0b7b9-29d6-4456-8b2b-5671b1e52a1e",
   "metadata": {},
   "outputs": [],
   "source": []
  }
 ],
 "metadata": {
  "kernelspec": {
   "display_name": "Python 3 (ipykernel)",
   "language": "python",
   "name": "python3"
  },
  "language_info": {
   "codemirror_mode": {
    "name": "ipython",
    "version": 3
   },
   "file_extension": ".py",
   "mimetype": "text/x-python",
   "name": "python",
   "nbconvert_exporter": "python",
   "pygments_lexer": "ipython3",
   "version": "3.13.5"
  }
 },
 "nbformat": 4,
 "nbformat_minor": 5
}
