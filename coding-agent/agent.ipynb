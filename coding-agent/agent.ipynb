{
 "cells": [
  {
   "cell_type": "code",
   "execution_count": 1,
   "id": "4431150a-1a25-4811-aa70-0a83af1fc5a7",
   "metadata": {},
   "outputs": [],
   "source": [
    "import sys\n",
    "sys.path.append('../../toyaikit/')"
   ]
  },
  {
   "cell_type": "code",
   "execution_count": 2,
   "id": "b34151cf-a610-4374-abf6-4948fd5ee4cb",
   "metadata": {},
   "outputs": [],
   "source": [
    "%load_ext autoreload\n",
    "%autoreload 2"
   ]
  },
  {
   "cell_type": "code",
   "execution_count": 3,
   "id": "4b2e2a9f-0d4c-4619-8621-9d0f38f02ec2",
   "metadata": {},
   "outputs": [],
   "source": [
    "from openai import OpenAI\n",
    "\n",
    "from toyaikit.chat import ChatAssistant, OpenAIClient, IPythonChatInterface\n",
    "from toyaikit.tools import Tools"
   ]
  },
  {
   "cell_type": "code",
   "execution_count": 4,
   "id": "e1a9b32b-dfb2-4ea5-a3bc-ebf80650b753",
   "metadata": {},
   "outputs": [],
   "source": [
    "import os\n",
    "import shutil\n",
    "\n",
    "def start():\n",
    "    project_name = input(\"Enter the new Django project name: \").strip()\n",
    "    if not project_name:\n",
    "        print(\"Project name cannot be empty.\")\n",
    "        return\n",
    "\n",
    "    if os.path.exists(project_name):\n",
    "        print(f\"Directory '{project_name}' already exists. Please choose a different name or remove the existing directory.\")\n",
    "        return\n",
    "\n",
    "    shutil.copytree('django_template', project_name)\n",
    "    print(f\"Django template copied to '{project_name}' directory.\")\n",
    "\n",
    "    return project_name"
   ]
  },
  {
   "cell_type": "code",
   "execution_count": 5,
   "id": "487e42a5-1e4e-4d4d-a5f8-872f937871aa",
   "metadata": {},
   "outputs": [],
   "source": [
    "DEVELOPER_PROMPT = \"\"\"\n",
    "You are a coding agent. Your task is to modify the provided Django project template\n",
    "according to user instructions. You don't tell the user what to do; you do it yourself using the \n",
    "available tools. First, think about the sequence of steps you will do, and then \n",
    "execute the sequence.\n",
    "Always ensure changes are consistent with Django best practices and the project’s structure.\n",
    "\n",
    "## Project Overview\n",
    "\n",
    "The project is a Django 5.2.4 web application scaffolded with standard best practices. It uses:\n",
    "- Python 3.8+\n",
    "- Django 5.2.4 (as specified in pyproject.toml)\n",
    "- uv for Python environment and dependency management\n",
    "- SQLite as the default database (see settings.py)\n",
    "- Standard Django apps and a custom app called myapp\n",
    "- HTML templates for rendering views\n",
    "- TailwindCSS for styling\n",
    "\n",
    "## File Tree\n",
    "\n",
    "\n",
    "├── .python-version\n",
    "├── README.md\n",
    "├── manage.py\n",
    "├── pyproject.toml\n",
    "├── uv.lock\n",
    "├── myapp/\n",
    "│   ├── __init__.py\n",
    "│   ├── admin.py\n",
    "│   ├── apps.py\n",
    "│   ├── migrations/\n",
    "│   │   └── __init__.py\n",
    "│   ├── models.py\n",
    "│   ├── templates/\n",
    "│   │   └── home.html\n",
    "│   ├── tests.py\n",
    "│   └── views.py\n",
    "├── myproject/\n",
    "│   ├── __init__.py\n",
    "│   ├── asgi.py\n",
    "│   ├── settings.py\n",
    "│   ├── urls.py\n",
    "│   └── wsgi.py\n",
    "└── templates/\n",
    "    └── base.html\n",
    "\n",
    "## Content Description\n",
    "\n",
    "- manage.py: Standard Django management script for running commands.\n",
    "- README.md: Setup and run instructions, including use of uv for dependency management.\n",
    "- pyproject.toml: Project metadata and dependencies (Django 5.2.4).\n",
    "- uv.lock: Lock file for reproducible Python environments.\n",
    "- .python-version: Specifies the Python version for the project.\n",
    "- myapp/: Custom Django app with models, views, admin, tests, and a template (home.html).\n",
    "  - migrations/: Contains migration files for database schema.\n",
    "- myproject/: Django project configuration (settings, URLs, WSGI/ASGI entrypoints).\n",
    "  - settings.py: Configures installed apps, middleware, database (SQLite), templates, etc.\n",
    "- templates/: Project-level templates, including base.html.\n",
    "\n",
    "You have full access to modify, add, or remove files and code within this structure using your available tools.\n",
    "\n",
    "\n",
    "## Additional instructions\n",
    "\n",
    "- Don't execute \"runproject\", but you can execute other commands to check if the project is working.\n",
    "- Make sure you use Tailwind styles for making the result look beatiful\n",
    "- Use pictograms and emojis when possible. Font-awesome is awailable\n",
    "- Avoid putting complex logic to templates - do it on the server side when possible\n",
    "\"\"\""
   ]
  },
  {
   "cell_type": "code",
   "execution_count": 6,
   "id": "600bd7a2-4ad7-4a93-a4cc-f7c67bfcbefd",
   "metadata": {},
   "outputs": [
    {
     "name": "stdin",
     "output_type": "stream",
     "text": [
      "Enter the new Django project name:  todo-2\n"
     ]
    },
    {
     "name": "stdout",
     "output_type": "stream",
     "text": [
      "Django template copied to 'todo-2' directory.\n"
     ]
    }
   ],
   "source": [
    "project_name = start()"
   ]
  },
  {
   "cell_type": "code",
   "execution_count": 14,
   "id": "18920a13-c8a8-40f2-8303-e592b85800e5",
   "metadata": {},
   "outputs": [],
   "source": [
    "project_name = 'todo'"
   ]
  },
  {
   "cell_type": "code",
   "execution_count": 7,
   "id": "8ef3745b-6431-4c89-9062-e8f201c4e9b3",
   "metadata": {},
   "outputs": [],
   "source": [
    "from pathlib import Path\n",
    "import tools\n",
    "\n",
    "project_path = Path(project_name)\n",
    "agent_tools = tools.AgentTools(project_path)"
   ]
  },
  {
   "cell_type": "code",
   "execution_count": 8,
   "id": "efad8756-5791-4b5e-ae39-558ee401eefc",
   "metadata": {},
   "outputs": [],
   "source": [
    "tools_obj = Tools()\n",
    "tools_obj.add_tools(agent_tools)"
   ]
  },
  {
   "cell_type": "code",
   "execution_count": 9,
   "id": "420fd604-9761-4a09-8a3a-c7041a29e6b6",
   "metadata": {},
   "outputs": [
    {
     "data": {
      "text/plain": [
       "[{'type': 'function',\n",
       "  'name': 'execute_bash_command',\n",
       "  'description': 'Execute a bash command in the shell and return its output, error, and exit code. Blocks running the Django development server (runserver).\\n\\nParameters:\\n    command (str): The bash command to execute.\\n    cwd (str, optional): Working directory to run the command in, relative to the project directory. Defaults to None.\\nReturns:\\n    tuple: (stdout (str), stderr (str), returncode (int))',\n",
       "  'parameters': {'type': 'object',\n",
       "   'properties': {'command': {'type': 'string',\n",
       "     'description': 'command parameter'},\n",
       "    'cwd': {'type': 'string', 'description': 'cwd parameter'}},\n",
       "   'required': ['command'],\n",
       "   'additionalProperties': False}},\n",
       " {'type': 'function',\n",
       "  'name': 'read_file',\n",
       "  'description': 'Read and return the contents of a file at the given relative filepath.\\n\\nParameters:\\n    filepath (str): Path to the file, relative to the project directory.\\nReturns:\\n    str: Contents of the file.',\n",
       "  'parameters': {'type': 'object',\n",
       "   'properties': {'filepath': {'type': 'string',\n",
       "     'description': 'filepath parameter'}},\n",
       "   'required': ['filepath'],\n",
       "   'additionalProperties': False}},\n",
       " {'type': 'function',\n",
       "  'name': 'search_in_files',\n",
       "  'description': 'Search for a pattern in all files under the given root directory and return a list of matches as (relative path, line number, line content).\\n\\nParameters:\\n    pattern (str): Pattern to search for in files.\\n    root_dir (str): Root directory to search from, relative to the project directory. Defaults to \".\".\\nReturns:\\n    list[tuple]: List of (relative path, line number, line content) for each match.',\n",
       "  'parameters': {'type': 'object',\n",
       "   'properties': {'pattern': {'type': 'string',\n",
       "     'description': 'pattern parameter'},\n",
       "    'root_dir': {'type': 'string', 'description': 'root_dir parameter'}},\n",
       "   'required': ['pattern'],\n",
       "   'additionalProperties': False}},\n",
       " {'type': 'function',\n",
       "  'name': 'see_file_tree',\n",
       "  'description': 'Return a list of all files and directories under the given root directory, relative to the project directory.\\n\\nParameters:\\n    root_dir (str): Root directory to list from, relative to the project directory. Defaults to \".\".\\nReturns:\\n    list[str]: List of relative paths for all files and directories.',\n",
       "  'parameters': {'type': 'object',\n",
       "   'properties': {'root_dir': {'type': 'string',\n",
       "     'description': 'root_dir parameter'}},\n",
       "   'required': [],\n",
       "   'additionalProperties': False}},\n",
       " {'type': 'function',\n",
       "  'name': 'write_file',\n",
       "  'description': 'Write the given content to a file at the given relative filepath, creating directories as needed.\\n\\nParameters:\\n    filepath (str): Path to the file, relative to the project directory.\\n    content (str): Content to write to the file.\\nReturns:\\n    None',\n",
       "  'parameters': {'type': 'object',\n",
       "   'properties': {'filepath': {'type': 'string',\n",
       "     'description': 'filepath parameter'},\n",
       "    'content': {'type': 'string', 'description': 'content parameter'}},\n",
       "   'required': ['filepath', 'content'],\n",
       "   'additionalProperties': False}}]"
      ]
     },
     "execution_count": 9,
     "metadata": {},
     "output_type": "execute_result"
    }
   ],
   "source": [
    "tools_obj.get_tools()"
   ]
  },
  {
   "cell_type": "code",
   "execution_count": 10,
   "id": "0ba11132-a5ad-4ddd-9d1c-a439b4ee4aed",
   "metadata": {},
   "outputs": [],
   "source": [
    "chat_interface = IPythonChatInterface()\n",
    "openai_client = OpenAIClient(client=OpenAI())\n",
    "\n",
    "chat_assistant = ChatAssistant(\n",
    "    tools=tools_obj,\n",
    "    developer_prompt=DEVELOPER_PROMPT,\n",
    "    chat_interface=chat_interface,\n",
    "    llm_client=openai_client\n",
    ")"
   ]
  },
  {
   "cell_type": "code",
   "execution_count": 11,
   "id": "7288561f-45c3-4c18-8137-208f95346270",
   "metadata": {},
   "outputs": [
    {
     "name": "stdin",
     "output_type": "stream",
     "text": [
      "You: todo app\n"
     ]
    },
    {
     "data": {
      "text/html": [
       "\n",
       "            <div>\n",
       "                <div><b>Assistant:</b></div>\n",
       "                <div><p>To create a simple Todo app in your Django project, I'll follow these steps:</p>\n",
       "<ol>\n",
       "<li><strong>Update Models</strong>: Add a <code>Todo</code> model to store todo items.</li>\n",
       "<li><strong>Create Views</strong>: Implement views to handle displaying, adding, and deleting todos.</li>\n",
       "<li><strong>Setup URLs</strong>: Define URLs for the views.</li>\n",
       "<li><strong>Create Templates</strong>: Design HTML templates to render the todo list and include form handling.</li>\n",
       "<li><strong>Update CSS</strong>: Use TailwindCSS for styling the templates.</li>\n",
       "</ol>\n",
       "<p>Let's start with these modifications. I'll begin by updating the <code>models.py</code> to include a <code>Todo</code> model. Then I'll add the necessary views and URLs.</p></div>\n",
       "            </div>\n",
       "        "
      ],
      "text/plain": [
       "<IPython.core.display.HTML object>"
      ]
     },
     "metadata": {},
     "output_type": "display_data"
    },
    {
     "data": {
      "text/html": [
       "\n",
       "            <details>\n",
       "            <summary>Function call: <tt>write_file({\"filepath\":\"myapp/models.py\",\"content\":\"from d...)</tt></summary>\n",
       "            <div>\n",
       "                <b>Call</b>\n",
       "                <pre>{\"filepath\":\"myapp/models.py\",\"content\":\"from django.db import models\\n\\nclass Todo(models.Model):\\n    title = models.CharField(max_length=200)\\n    completed = models.BooleanField(default=False)\\n    created_at = models.DateTimeField(auto_now_add=True)\\n\\n    def __str__(self):\\n        return self.title\\n\"}</pre>\n",
       "            </div>\n",
       "            <div>\n",
       "                <b>Output</b>\n",
       "                <pre>{'type': 'function_call_output', 'call_id': 'call_ZtbmyjAkbReuMPoFkpHXm18q', 'output': 'null'}</pre>\n",
       "            </div>\n",
       "            \n",
       "            </details>\n",
       "        "
      ],
      "text/plain": [
       "<IPython.core.display.HTML object>"
      ]
     },
     "metadata": {},
     "output_type": "display_data"
    },
    {
     "data": {
      "text/html": [
       "\n",
       "            <details>\n",
       "            <summary>Function call: <tt>write_file({\"filepath\":\"myapp/views.py\",\"content\":\"from dj...)</tt></summary>\n",
       "            <div>\n",
       "                <b>Call</b>\n",
       "                <pre>{\"filepath\":\"myapp/views.py\",\"content\":\"from django.shortcuts import render, redirect\\nfrom .models import Todo\\n\\n\\ndef todo_list(request):\\n    todos = Todo.objects.all()\\n    return render(request, 'todo_list.html', {'todos': todos})\\n\\n\\ndef add_todo(request):\\n    if request.method == 'POST':\\n        title = request.POST.get('title')\\n        Todo.objects.create(title=title)\\n        return redirect('todo_list')\\n    return render(request, 'add_todo.html')\\n\\n\\ndef delete_todo(request, todo_id):\\n    todo = Todo.objects.get(id=todo_id)\\n    todo.delete()\\n    return redirect('todo_list')\\n\"}</pre>\n",
       "            </div>\n",
       "            <div>\n",
       "                <b>Output</b>\n",
       "                <pre>{'type': 'function_call_output', 'call_id': 'call_kzXgSagFWnqRXFc77x0HtoSM', 'output': 'null'}</pre>\n",
       "            </div>\n",
       "            \n",
       "            </details>\n",
       "        "
      ],
      "text/plain": [
       "<IPython.core.display.HTML object>"
      ]
     },
     "metadata": {},
     "output_type": "display_data"
    },
    {
     "data": {
      "text/html": [
       "\n",
       "            <details>\n",
       "            <summary>Function call: <tt>write_file({\"filepath\":\"myproject/urls.py\",\"content\":\"from...)</tt></summary>\n",
       "            <div>\n",
       "                <b>Call</b>\n",
       "                <pre>{\"filepath\":\"myproject/urls.py\",\"content\":\"from django.contrib import admin\\nfrom django.urls import path\\nfrom myapp import views\\n\\nurlpatterns = [\\n    path('admin/', admin.site.urls),\\n    path('', views.todo_list, name='todo_list'),\\n    path('add/', views.add_todo, name='add_todo'),\\n    path('delete/<int:todo_id>/', views.delete_todo, name='delete_todo'),\\n]\"}</pre>\n",
       "            </div>\n",
       "            <div>\n",
       "                <b>Output</b>\n",
       "                <pre>{'type': 'function_call_output', 'call_id': 'call_2J8FehSLXis18cnyVFwNmOV4', 'output': 'null'}</pre>\n",
       "            </div>\n",
       "            \n",
       "            </details>\n",
       "        "
      ],
      "text/plain": [
       "<IPython.core.display.HTML object>"
      ]
     },
     "metadata": {},
     "output_type": "display_data"
    },
    {
     "data": {
      "text/html": [
       "\n",
       "            <details>\n",
       "            <summary>Function call: <tt>write_file({\"filepath\":\"myapp/templates/todo_list.html\",\"c...)</tt></summary>\n",
       "            <div>\n",
       "                <b>Call</b>\n",
       "                <pre>{\"filepath\":\"myapp/templates/todo_list.html\",\"content\":\"{% extends 'base.html' %}\\n\\n{% block content %}\\n<h1 class=\\\"text-2xl font-bold mt-5\\\">Todo List 📋</h1>\\n\\n<ul class=\\\"list-disc list-inside mt-3\\\">\\n    {% for todo in todos %}\\n        <li class=\\\"flex justify-between items-center bg-gray-200 p-2 my-2 rounded\\\">\\n            <span class=\\\"{% if todo.completed %}line-through{% endif %}\\\">{{ todo.title }}</span>\\n            <form action=\\\"{% url 'delete_todo' todo.id %}\\\" method=\\\"post\\\">\\n                {% csrf_token %}\\n                <button class=\\\"bg-red-500 text-white px-2 py-1 rounded\\\" type=\\\"submit\\\">❌</button>\\n            </form>\\n        </li>\\n    {% endfor %}\\n</ul>\\n\\n<form action=\\\"{% url 'add_todo' %}\\\" method=\\\"post\\\" class=\\\"mt-5\\\">\\n    {% csrf_token %}\\n    <input type=\\\"text\\\" name=\\\"title\\\" class=\\\"border p-2 rounded\\\" placeholder=\\\"Enter todo title\\\" required>\\n    <button class=\\\"bg-blue-500 text-white px-4 py-2 rounded\\\">➕ Add Todo</button>\\n</form>\\n{% endblock %}\"}</pre>\n",
       "            </div>\n",
       "            <div>\n",
       "                <b>Output</b>\n",
       "                <pre>{'type': 'function_call_output', 'call_id': 'call_HbqpkNnbH2s9utrWcvMaljdi', 'output': 'null'}</pre>\n",
       "            </div>\n",
       "            \n",
       "            </details>\n",
       "        "
      ],
      "text/plain": [
       "<IPython.core.display.HTML object>"
      ]
     },
     "metadata": {},
     "output_type": "display_data"
    },
    {
     "data": {
      "text/html": [
       "\n",
       "            <details>\n",
       "            <summary>Function call: <tt>write_file({\"filepath\":\"myapp/templates/add_todo.html\",\"co...)</tt></summary>\n",
       "            <div>\n",
       "                <b>Call</b>\n",
       "                <pre>{\"filepath\":\"myapp/templates/add_todo.html\",\"content\":\"{% extends 'base.html' %}\\n\\n{% block content %}\\n<h1 class=\\\"text-2xl font-bold mt-5\\\">Add Todo 📝</h1>\\n\\n<form action=\\\"{% url 'add_todo' %}\\\" method=\\\"post\\\" class=\\\"mt-5\\\">\\n    {% csrf_token %}\\n    <input type=\\\"text\\\" name=\\\"title\\\" class=\\\"border p-2 rounded\\\" placeholder=\\\"Enter todo title\\\" required>\\n    <button class=\\\"bg-blue-500 text-white px-4 py-2 rounded\\\">➕ Add Todo</button>\\n</form>\\n{% endblock %}\"}</pre>\n",
       "            </div>\n",
       "            <div>\n",
       "                <b>Output</b>\n",
       "                <pre>{'type': 'function_call_output', 'call_id': 'call_JVLJVaIJL8D2QR3uHMlcthOy', 'output': 'null'}</pre>\n",
       "            </div>\n",
       "            \n",
       "            </details>\n",
       "        "
      ],
      "text/plain": [
       "<IPython.core.display.HTML object>"
      ]
     },
     "metadata": {},
     "output_type": "display_data"
    },
    {
     "data": {
      "text/html": [
       "\n",
       "            <details>\n",
       "            <summary>Function call: <tt>execute_bash_command({\"command\":\"python manage.py makemigrations mya...)</tt></summary>\n",
       "            <div>\n",
       "                <b>Call</b>\n",
       "                <pre>{\"command\":\"python manage.py makemigrations myapp\"}</pre>\n",
       "            </div>\n",
       "            <div>\n",
       "                <b>Output</b>\n",
       "                <pre>{'type': 'function_call_output', 'call_id': 'call_9c5CIs1eIlyonvLHQjZ3EXgD', 'output': '[\\n  \"Migrations for \\'myapp\\':\\\\n  myapp\\\\\\\\migrations\\\\\\\\0001_initial.py\\\\n    + Create model Todo\\\\n\",\\n  \"\",\\n  0\\n]'}</pre>\n",
       "            </div>\n",
       "            \n",
       "            </details>\n",
       "        "
      ],
      "text/plain": [
       "<IPython.core.display.HTML object>"
      ]
     },
     "metadata": {},
     "output_type": "display_data"
    },
    {
     "data": {
      "text/html": [
       "\n",
       "            <details>\n",
       "            <summary>Function call: <tt>execute_bash_command({\"command\":\"python manage.py migrate\"})</tt></summary>\n",
       "            <div>\n",
       "                <b>Call</b>\n",
       "                <pre>{\"command\":\"python manage.py migrate\"}</pre>\n",
       "            </div>\n",
       "            <div>\n",
       "                <b>Output</b>\n",
       "                <pre>{'type': 'function_call_output', 'call_id': 'call_oPeAG4cWKx0R0CplGpKqSpXb', 'output': '[\\n  \"Operations to perform:\\\\n  Apply all migrations: admin, auth, contenttypes, myapp, sessions\\\\nRunning migrations:\\\\n  Applying myapp.0001_initial... OK\\\\n\",\\n  \"\",\\n  0\\n]'}</pre>\n",
       "            </div>\n",
       "            \n",
       "            </details>\n",
       "        "
      ],
      "text/plain": [
       "<IPython.core.display.HTML object>"
      ]
     },
     "metadata": {},
     "output_type": "display_data"
    },
    {
     "data": {
      "text/html": [
       "\n",
       "            <div>\n",
       "                <div><b>Assistant:</b></div>\n",
       "                <div><p>The Todo app has been successfully implemented with the following features:</p>\n",
       "<ol>\n",
       "<li><strong>Model</strong>: A <code>Todo</code> model to store todo items.</li>\n",
       "<li><strong>Views</strong>: </li>\n",
       "<li><code>todo_list</code>: Displays all todos.</li>\n",
       "<li><code>add_todo</code>: Handles adding a new todo.</li>\n",
       "<li><code>delete_todo</code>: Handles deleting a todo.</li>\n",
       "<li><strong>URLs</strong>: Defined for the app's functionalities.</li>\n",
       "<li><strong>Templates</strong>: </li>\n",
       "<li><code>todo_list.html</code>: Displays the list of todos and a form to add new ones.</li>\n",
       "<li><code>add_todo.html</code>: Provides a form to input new todos.</li>\n",
       "<li><strong>Database</strong>: Migrations for the <code>Todo</code> model have been created and applied.</li>\n",
       "</ol>\n",
       "<h3>Next Steps</h3>\n",
       "<p>To see the Todo app in action, you can run the Django development server using:</p>\n",
       "<p><code>bash\n",
       "python manage.py runserver</code></p>\n",
       "<p>After that, navigate to <a href=\"http://127.0.0.1:8000/\"><code>http://127.0.0.1:8000/</code></a> to interact with your Todo app!</p></div>\n",
       "            </div>\n",
       "        "
      ],
      "text/plain": [
       "<IPython.core.display.HTML object>"
      ]
     },
     "metadata": {},
     "output_type": "display_data"
    },
    {
     "name": "stdin",
     "output_type": "stream",
     "text": [
      "You: stop\n"
     ]
    },
    {
     "name": "stdout",
     "output_type": "stream",
     "text": [
      "Chat ended.\n"
     ]
    }
   ],
   "source": [
    "chat_assistant.run()"
   ]
  },
  {
   "cell_type": "code",
   "execution_count": null,
   "id": "7b02fc3b-c8de-42e2-9507-c24db946328d",
   "metadata": {},
   "outputs": [],
   "source": []
  }
 ],
 "metadata": {
  "kernelspec": {
   "display_name": "Python 3 (ipykernel)",
   "language": "python",
   "name": "python3"
  },
  "language_info": {
   "codemirror_mode": {
    "name": "ipython",
    "version": 3
   },
   "file_extension": ".py",
   "mimetype": "text/x-python",
   "name": "python",
   "nbconvert_exporter": "python",
   "pygments_lexer": "ipython3",
   "version": "3.13.5"
  }
 },
 "nbformat": 4,
 "nbformat_minor": 5
}
